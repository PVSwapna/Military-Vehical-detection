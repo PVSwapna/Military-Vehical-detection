{
  "nbformat": 4,
  "nbformat_minor": 0,
  "metadata": {
    "colab": {
      "provenance": []
    },
    "kernelspec": {
      "name": "python3",
      "display_name": "Python 3"
    },
    "language_info": {
      "name": "python"
    }
  },
  "cells": [
    {
      "cell_type": "code",
      "execution_count": null,
      "metadata": {
        "id": "M5G6x_fFIZ1B",
        "colab": {
          "base_uri": "https://localhost:8080/"
        },
        "outputId": "9b3f4a4a-1fa1-4f65-fff0-86c7b5bd9054"
      },
      "outputs": [
        {
          "output_type": "stream",
          "name": "stdout",
          "text": [
            "Mounted at /content/drive\n"
          ]
        }
      ],
      "source": [
        "from google.colab import drive\n",
        "drive.mount('/content/drive')"
      ]
    },
    {
      "cell_type": "code",
      "source": [
        "import tensorflow as tf\n",
        "from tensorflow.keras.preprocessing.image import ImageDataGenerator\n",
        "\n",
        "# Set the path to your dataset\n",
        "data_dir ='/content/drive/MyDrive/Military vehicles detection/train'\n",
        "\n",
        "# Create a data generator\n",
        "datagen = ImageDataGenerator(rescale=1./255, validation_split=0.2)\n",
        "\n",
        "# Load the training data\n",
        "train_generator = datagen.flow_from_directory(\n",
        "    data_dir,\n",
        "    target_size=(150, 150),\n",
        "    batch_size=32,\n",
        "    class_mode='categorical',\n",
        "    subset='training'\n",
        ")\n",
        "\n",
        "# Load the validation data\n",
        "validation_generator = datagen.flow_from_directory(\n",
        "    data_dir,\n",
        "    target_size=(150, 150),\n",
        "    batch_size=32,\n",
        "    class_mode='categorical',\n",
        "    subset='validation'\n",
        ")\n",
        "\n",
        "from tensorflow.keras.models import Sequential\n",
        "from tensorflow.keras.layers import Conv2D, MaxPooling2D, Flatten, Dense, Dropout\n",
        "\n",
        "model = Sequential([\n",
        "    Conv2D(32, (3, 3), activation='relu', input_shape=(150, 150, 3)),\n",
        "    MaxPooling2D((2, 2)),\n",
        "    Conv2D(64, (3, 3), activation='relu'),\n",
        "    MaxPooling2D((2, 2)),\n",
        "    Conv2D(128, (3, 3), activation='relu'),\n",
        "    MaxPooling2D((2, 2)),\n",
        "    Flatten(),\n",
        "    Dense(512, activation='relu'),\n",
        "    Dropout(0.5),\n",
        "    Dense(train_generator.num_classes, activation='softmax')\n",
        "])\n",
        "\n",
        "model.compile(optimizer='adam', loss='categorical_crossentropy', metrics=['accuracy'])\n",
        "\n",
        "history = model.fit(\n",
        "    train_generator,\n",
        "    steps_per_epoch=train_generator.samples // train_generator.batch_size,\n",
        "    validation_data=validation_generator,\n",
        "    validation_steps=validation_generator.samples // validation_generator.batch_size,\n",
        "    epochs=10  # Adjust the number of epochs as needed\n",
        ")\n",
        "\n",
        "loss, accuracy = model.evaluate(validation_generator)\n",
        "print(f'Validation loss: {loss}')\n",
        "print(f'Validation accuracy: {accuracy}')\n",
        "\n",
        "model.save('vehicle_model.h5')"
      ],
      "metadata": {
        "id": "TRSJGy0H0fV4",
        "colab": {
          "base_uri": "https://localhost:8080/"
        },
        "outputId": "a60cbb02-a955-4421-e43f-0076324c2aa7"
      },
      "execution_count": null,
      "outputs": [
        {
          "output_type": "stream",
          "name": "stdout",
          "text": [
            "Found 8384 images belonging to 10 classes.\n",
            "Found 2090 images belonging to 10 classes.\n",
            "Epoch 1/10\n",
            "262/262 [==============================] - 2474s 9s/step - loss: 2.3143 - accuracy: 0.1252 - val_loss: 2.2401 - val_accuracy: 0.1788\n",
            "Epoch 2/10\n",
            "262/262 [==============================] - 547s 2s/step - loss: 2.1689 - accuracy: 0.2131 - val_loss: 2.0839 - val_accuracy: 0.2683\n",
            "Epoch 3/10\n",
            "262/262 [==============================] - 552s 2s/step - loss: 1.8473 - accuracy: 0.3587 - val_loss: 1.8857 - val_accuracy: 0.3327\n",
            "Epoch 4/10\n",
            "262/262 [==============================] - 597s 2s/step - loss: 1.2954 - accuracy: 0.5607 - val_loss: 1.8030 - val_accuracy: 0.4024\n",
            "Epoch 5/10\n",
            "262/262 [==============================] - 550s 2s/step - loss: 0.7164 - accuracy: 0.7644 - val_loss: 1.9443 - val_accuracy: 0.4298\n",
            "Epoch 6/10\n",
            "262/262 [==============================] - 569s 2s/step - loss: 0.3670 - accuracy: 0.8859 - val_loss: 2.2451 - val_accuracy: 0.4380\n",
            "Epoch 7/10\n",
            "262/262 [==============================] - 547s 2s/step - loss: 0.2401 - accuracy: 0.9272 - val_loss: 2.4283 - val_accuracy: 0.4587\n",
            "Epoch 8/10\n",
            "262/262 [==============================] - 555s 2s/step - loss: 0.1693 - accuracy: 0.9487 - val_loss: 2.6340 - val_accuracy: 0.4582\n",
            "Epoch 9/10\n",
            "262/262 [==============================] - 561s 2s/step - loss: 0.1182 - accuracy: 0.9671 - val_loss: 2.9904 - val_accuracy: 0.4668\n",
            "Epoch 10/10\n",
            "262/262 [==============================] - 563s 2s/step - loss: 0.1215 - accuracy: 0.9647 - val_loss: 3.0600 - val_accuracy: 0.4529\n",
            "66/66 [==============================] - 40s 602ms/step - loss: 3.0532 - accuracy: 0.4531\n",
            "Validation loss: 3.0531654357910156\n",
            "Validation accuracy: 0.4531100392341614\n"
          ]
        },
        {
          "output_type": "stream",
          "name": "stderr",
          "text": [
            "/usr/local/lib/python3.10/dist-packages/keras/src/engine/training.py:3103: UserWarning: You are saving your model as an HDF5 file via `model.save()`. This file format is considered legacy. We recommend using instead the native Keras format, e.g. `model.save('my_model.keras')`.\n",
            "  saving_api.save_model(\n"
          ]
        }
      ]
    },
    {
      "cell_type": "code",
      "source": [
        "import cv2\n",
        "import numpy as np\n",
        "import tensorflow as tf\n",
        "\n",
        "# Load the model\n",
        "model = tf.keras.models.load_model('vehicle_model.h5')\n",
        "\n",
        "# Class names mapping\n",
        "class_names = {\n",
        "    0: 'Anti-aircraft',\n",
        "    1: 'Armored combat support vehicles',\n",
        "    2: 'Armored personnel carriers',\n",
        "    3: 'Infantry fighting vehicles',\n",
        "    4: 'Light armored vehicles',\n",
        "    5: 'Mine-protected vehicles',\n",
        "    6: 'Prime movers and trucks',\n",
        "    7: 'Self-propelled artillery',\n",
        "    8: 'Light utility vehicles',\n",
        "    9: 'Tanks'\n",
        "}\n",
        "print(class_names)\n",
        "\n",
        "# Function to preprocess the image\n",
        "def preprocess_image(image_path):\n",
        "    img = cv2.imread(image_path)\n",
        "    if img is None:\n",
        "        raise FileNotFoundError(f\"Image file '{image_path}' not found or cannot be opened.\")\n",
        "    original_img = img.copy()\n",
        "    img = cv2.resize(img, (150, 150))\n",
        "    img = img.astype('float32') / 255.0\n",
        "    img = np.expand_dims(img, axis=0)\n",
        "    return img, original_img\n",
        "\n",
        "# Predict on a new image\n",
        "image_path = '/content/drive/MyDrive/Military vehicles detection/train/tanks/tanks_0_1538.jpeg'\n",
        "try:\n",
        "    img, original_img = preprocess_image(image_path)\n",
        "    predictions = model.predict(img)\n",
        "    predicted_class = np.argmax(predictions[0])\n",
        "    predicted_class_name = class_names[predicted_class]\n",
        "    print(f'Predicted class: {predicted_class_name}')\n",
        "\n",
        "    # Draw rectangle and class name on the original image\n",
        "    height, width, _ = original_img.shape\n",
        "    cv2.rectangle(original_img, (10, 10), (width - 10, height - 10), (0, 255, 0), 2)\n",
        "    cv2.putText(original_img, f'Class: {predicted_class_name}', (10, 30), cv2.FONT_HERSHEY_SIMPLEX, 1, (0, 255, 0), 2)\n",
        "\n",
        "    # Display the image\n",
        "    #cv2.imshow('Detected Image', original_img)\n",
        "    #cv2.waitKey(0)\n",
        "   # cv2.destroyAllWindows()\n",
        "except FileNotFoundError as e:\n",
        "    print(e)"
      ],
      "metadata": {
        "colab": {
          "base_uri": "https://localhost:8080/"
        },
        "id": "MvNDOB6LOAjC",
        "outputId": "b840ab1a-df2e-4b61-a269-69c75df95c14"
      },
      "execution_count": null,
      "outputs": [
        {
          "output_type": "stream",
          "name": "stderr",
          "text": [
            "WARNING:tensorflow:6 out of the last 6 calls to <function Model.make_predict_function.<locals>.predict_function at 0x7f0f29f87eb0> triggered tf.function retracing. Tracing is expensive and the excessive number of tracings could be due to (1) creating @tf.function repeatedly in a loop, (2) passing tensors with different shapes, (3) passing Python objects instead of tensors. For (1), please define your @tf.function outside of the loop. For (2), @tf.function has reduce_retracing=True option that can avoid unnecessary retracing. For (3), please refer to https://www.tensorflow.org/guide/function#controlling_retracing and https://www.tensorflow.org/api_docs/python/tf/function for  more details.\n"
          ]
        },
        {
          "output_type": "stream",
          "name": "stdout",
          "text": [
            "{0: 'Anti-aircraft', 1: 'Armored combat support vehicles', 2: 'Armored personnel carriers', 3: 'Infantry fighting vehicles', 4: 'Light armored vehicles', 5: 'Mine-protected vehicles', 6: 'Prime movers and trucks', 7: 'Self-propelled artillery', 8: 'Light utility vehicles', 9: 'Tanks'}\n",
            "1/1 [==============================] - 0s 126ms/step\n",
            "Predicted class: Tanks\n"
          ]
        }
      ]
    },
    {
      "cell_type": "code",
      "source": [],
      "metadata": {
        "id": "FG1mKV-G0e4l"
      },
      "execution_count": null,
      "outputs": []
    }
  ]
}